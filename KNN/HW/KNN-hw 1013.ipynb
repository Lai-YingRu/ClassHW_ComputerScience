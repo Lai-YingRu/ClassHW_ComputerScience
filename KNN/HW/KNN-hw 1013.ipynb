{
 "cells": [
  {
   "cell_type": "code",
   "execution_count": 1,
   "metadata": {},
   "outputs": [],
   "source": [
    "import csv\n",
    "import numpy as np \n",
    "import random\n",
    "import operator\n",
    "import math"
   ]
  },
  {
   "cell_type": "code",
   "execution_count": 2,
   "metadata": {},
   "outputs": [],
   "source": [
    "def loadDataSet(filename,split,trainingSet=[],testSet=[]):\n",
    "    with open(filename, newline='') as csvfile:\n",
    "        lines=csv.reader(csvfile)\n",
    "        dataset = list(lines)\n",
    "        #print(dataset)    \n",
    "        dataset=np.random.permutation(dataset)#打亂資料\n",
    "        #print(\"len(dataset)=\",len(dataset))\n",
    "        for x in range(len(dataset)): #目前還不知為何不用減1 跑才對\n",
    "            #print(\"x=\",x)\n",
    "            for y in range(4):\n",
    "                #print(x,y,dataset[x][y])\n",
    "                dataset[x][y]=float(dataset[x][y])\n",
    "            if x/(len(dataset)) < split:\n",
    "                trainingSet.append(dataset[x])\n",
    "            else:\n",
    "                testSet.append(dataset[x])  \n",
    "                \n",
    "    print(\"Train:\",repr(len(trainingSet)))\n",
    "    print(\"Test:\",repr(len(testSet)))"
   ]
  },
  {
   "cell_type": "code",
   "execution_count": 3,
   "metadata": {},
   "outputs": [],
   "source": [
    "def EuclideanDis(d1,d2,length):\n",
    "    dis=0\n",
    "    #print(\"d1,d2=\",d1,d2)\n",
    "    for x in range(length):\n",
    "        #print(float(d1[x])-float(d2[x]))\n",
    "        dis+=pow(float(d1[x])-float(d2[x]),2)\n",
    "    #print('EuclideanDis=',math.sqrt(dis))\n",
    "    return math.sqrt(dis)"
   ]
  },
  {
   "cell_type": "code",
   "execution_count": 4,
   "metadata": {},
   "outputs": [],
   "source": [
    "test1=[2,2,2,'a']\n",
    "test2=[4,2,4,'b']\n",
    "dis=EuclideanDis(test1,test2,3)"
   ]
  },
  {
   "cell_type": "code",
   "execution_count": 5,
   "metadata": {},
   "outputs": [],
   "source": [
    "def getNeighbors(trainingSet, testInstance, k):\n",
    "    disSet=[]\n",
    "    length = len(testInstance)-1\n",
    "    #print(\"testInstance length=\",length)\n",
    "    for x in range(len(trainingSet)):\n",
    "        dist= EuclideanDis(testInstance,trainingSet[x],length)\n",
    "        disSet.append((trainingSet[x],dist))\n",
    "    disSet.sort(key=operator.itemgetter(1)) #用第二個域'距離'來由小到大排\n",
    "    #print(disSet)\n",
    "    neighbors = []\n",
    "    for x in range(k-1):\n",
    "        neighbors.append(disSet[x][0])\n",
    "    return neighbors"
   ]
  },
  {
   "cell_type": "code",
   "execution_count": 6,
   "metadata": {},
   "outputs": [
    {
     "name": "stdout",
     "output_type": "stream",
     "text": [
      "[[4.5, 4, 4, 'b'], [4, 4, 4, 'b']]\n"
     ]
    }
   ],
   "source": [
    "#test\n",
    "testTrainSet=[[2,2,2,'a'],[4,4,4,'b'],[1,1,1,'c'],[4.5,4,4,'b']]\n",
    "test=[5,5,5]\n",
    "testNeighbors=getNeighbors(testTrainSet,test,3)\n",
    "print(testNeighbors)\n"
   ]
  },
  {
   "cell_type": "code",
   "execution_count": 7,
   "metadata": {},
   "outputs": [],
   "source": [
    "def getResponse(neighbors):\n",
    "    classVotes={}\n",
    "    for x in range(len(neighbors)):\n",
    "        response = neighbors[x][-1]\n",
    "        if response in classVotes:\n",
    "            classVotes[response] +=1\n",
    "        else:\n",
    "            classVotes[response] =1\n",
    "    sortedVotes = sorted(classVotes.items(), key=operator.itemgetter(1),reverse=True)\n",
    "    return sortedVotes[0][0]"
   ]
  },
  {
   "cell_type": "code",
   "execution_count": 8,
   "metadata": {},
   "outputs": [
    {
     "name": "stdout",
     "output_type": "stream",
     "text": [
      "b\n"
     ]
    }
   ],
   "source": [
    "#test\n",
    "print(getResponse(testNeighbors))"
   ]
  },
  {
   "cell_type": "code",
   "execution_count": 9,
   "metadata": {},
   "outputs": [],
   "source": [
    "def getAccuracy(testSet,predittions):\n",
    "    correct =0\n",
    "    for x in range (len(testSet)):\n",
    "        if testSet[x][-1] == predittions[x]:\n",
    "            correct +=1\n",
    "    print((\"correct=\"),correct)    \n",
    "    print((correct/float(len(testSet)))*100.0)\n",
    "    return (correct/float(len(testSet)))*100.0"
   ]
  },
  {
   "cell_type": "code",
   "execution_count": 10,
   "metadata": {},
   "outputs": [
    {
     "name": "stdout",
     "output_type": "stream",
     "text": [
      "correct= 3\n",
      "75.0\n",
      "75.0\n"
     ]
    }
   ],
   "source": [
    "#test\n",
    "predittions=['a','b','b','b']\n",
    "accuracy=getAccuracy(testTrainSet,predittions)\n",
    "print(accuracy)"
   ]
  },
  {
   "cell_type": "code",
   "execution_count": 11,
   "metadata": {},
   "outputs": [],
   "source": [
    "# 畫圖 \n",
    "import matplotlib.pyplot as plt\n",
    "def Draw(k,accuracy):      \n",
    "    plt.figure(figsize=(12, 8))\n",
    "    for i in range (k):\n",
    "        plt.scatter(i+1, accuracy[i], alpha=0.6) \n",
    "    plt.show()\n"
   ]
  },
  {
   "cell_type": "code",
   "execution_count": 12,
   "metadata": {},
   "outputs": [],
   "source": [
    "def test():\n",
    "    dataset='iris.data'\n",
    "    trainingSet=[]\n",
    "    testSet=[]\n",
    "    split=0.5 \n",
    "    loadDataSet(dataset,split,trainingSet,testSet)\n",
    "    predittions=[]\n",
    "    k=int(input(\"k=\"))\n",
    "    for x in range(len(testSet)):\n",
    "            neighbors= getNeighbors(trainingSet,testSet[x],k)\n",
    "            result = getResponse(neighbors)\n",
    "            predittions.append(result)\n",
    "            print(\"predict=\",result,\"real=\",testSet[x][-1])\n",
    "    accuracy = getAccuracy(testSet,predittions)\n",
    "    print(\"accuracy=\",accuracy,\"%\")       "
   ]
  },
  {
   "cell_type": "code",
   "execution_count": null,
   "metadata": {},
   "outputs": [],
   "source": [
    "test()"
   ]
  },
  {
   "cell_type": "code",
   "execution_count": 14,
   "metadata": {},
   "outputs": [],
   "source": [
    "def main():\n",
    "    dataset='iris.data'\n",
    "    trainingSet=[]\n",
    "    testSet=[]\n",
    "    split=0.5 \n",
    "    loadDataSet(dataset,split,trainingSet,testSet)\n",
    "    predittions=[]\n",
    "    k=int(input(\"k=\"))\n",
    "    for x in range(len(testSet)):\n",
    "            neighbors= getNeighbors(trainingSet,testSet[x],k)\n",
    "            result = getResponse(neighbors)\n",
    "            predittions.append(result)\n",
    "            print(\"predict=\",result,\"real=\",testSet[x][-1])\n",
    "    accuracy = getAccuracy(testSet,predittions)\n",
    "    print(\"accuracy=\",accuracy,\"%\")     "
   ]
  },
  {
   "cell_type": "code",
   "execution_count": 16,
   "metadata": {},
   "outputs": [
    {
     "name": "stdout",
     "output_type": "stream",
     "text": [
      "Train: 75\n",
      "Test: 75\n",
      "k=20\n",
      "predict= Iris-versicolor real= Iris-versicolor\n",
      "predict= Iris-virginica real= Iris-virginica\n",
      "predict= Iris-versicolor real= Iris-virginica\n",
      "predict= Iris-setosa real= Iris-setosa\n",
      "predict= Iris-virginica real= Iris-virginica\n",
      "predict= Iris-versicolor real= Iris-versicolor\n",
      "predict= Iris-setosa real= Iris-setosa\n",
      "predict= Iris-virginica real= Iris-virginica\n",
      "predict= Iris-setosa real= Iris-setosa\n",
      "predict= Iris-virginica real= Iris-virginica\n",
      "predict= Iris-virginica real= Iris-virginica\n",
      "predict= Iris-setosa real= Iris-setosa\n",
      "predict= Iris-setosa real= Iris-setosa\n",
      "predict= Iris-setosa real= Iris-setosa\n",
      "predict= Iris-versicolor real= Iris-versicolor\n",
      "predict= Iris-virginica real= Iris-virginica\n",
      "predict= Iris-versicolor real= Iris-versicolor\n",
      "predict= Iris-setosa real= Iris-setosa\n",
      "predict= Iris-setosa real= Iris-setosa\n",
      "predict= Iris-versicolor real= Iris-versicolor\n",
      "predict= Iris-virginica real= Iris-virginica\n",
      "predict= Iris-setosa real= Iris-setosa\n",
      "predict= Iris-setosa real= Iris-setosa\n",
      "predict= Iris-virginica real= Iris-virginica\n",
      "predict= Iris-virginica real= Iris-versicolor\n",
      "predict= Iris-setosa real= Iris-setosa\n",
      "predict= Iris-setosa real= Iris-setosa\n",
      "predict= Iris-virginica real= Iris-virginica\n",
      "predict= Iris-setosa real= Iris-setosa\n",
      "predict= Iris-versicolor real= Iris-versicolor\n",
      "predict= Iris-versicolor real= Iris-versicolor\n",
      "predict= Iris-setosa real= Iris-setosa\n",
      "predict= Iris-virginica real= Iris-virginica\n",
      "predict= Iris-virginica real= Iris-virginica\n",
      "predict= Iris-virginica real= Iris-virginica\n",
      "predict= Iris-virginica real= Iris-virginica\n",
      "predict= Iris-versicolor real= Iris-versicolor\n",
      "predict= Iris-versicolor real= Iris-versicolor\n",
      "predict= Iris-versicolor real= Iris-versicolor\n",
      "predict= Iris-setosa real= Iris-setosa\n",
      "predict= Iris-versicolor real= Iris-versicolor\n",
      "predict= Iris-virginica real= Iris-virginica\n",
      "predict= Iris-versicolor real= Iris-versicolor\n",
      "predict= Iris-setosa real= Iris-setosa\n",
      "predict= Iris-versicolor real= Iris-versicolor\n",
      "predict= Iris-setosa real= Iris-setosa\n",
      "predict= Iris-versicolor real= Iris-virginica\n",
      "predict= Iris-versicolor real= Iris-versicolor\n",
      "predict= Iris-virginica real= Iris-virginica\n",
      "predict= Iris-setosa real= Iris-setosa\n",
      "predict= Iris-virginica real= Iris-virginica\n",
      "predict= Iris-versicolor real= Iris-virginica\n",
      "predict= Iris-setosa real= Iris-setosa\n",
      "predict= Iris-virginica real= Iris-virginica\n",
      "predict= Iris-versicolor real= Iris-virginica\n",
      "predict= Iris-setosa real= Iris-setosa\n",
      "predict= Iris-virginica real= Iris-virginica\n",
      "predict= Iris-setosa real= Iris-setosa\n",
      "predict= Iris-virginica real= Iris-virginica\n",
      "predict= Iris-virginica real= Iris-virginica\n",
      "predict= Iris-versicolor real= Iris-versicolor\n",
      "predict= Iris-setosa real= Iris-setosa\n",
      "predict= Iris-versicolor real= Iris-versicolor\n",
      "predict= Iris-setosa real= Iris-setosa\n",
      "predict= Iris-versicolor real= Iris-versicolor\n",
      "predict= Iris-versicolor real= Iris-versicolor\n",
      "predict= Iris-setosa real= Iris-setosa\n",
      "predict= Iris-virginica real= Iris-virginica\n",
      "predict= Iris-setosa real= Iris-setosa\n",
      "predict= Iris-setosa real= Iris-setosa\n",
      "predict= Iris-virginica real= Iris-virginica\n",
      "predict= Iris-versicolor real= Iris-versicolor\n",
      "predict= Iris-versicolor real= Iris-versicolor\n",
      "predict= Iris-virginica real= Iris-virginica\n",
      "predict= Iris-setosa real= Iris-setosa\n",
      "correct= 70\n",
      "93.33333333333333\n",
      "accuracy= 93.33333333333333 %\n"
     ]
    }
   ],
   "source": [
    "main()"
   ]
  },
  {
   "cell_type": "markdown",
   "metadata": {},
   "source": [
    "##### "
   ]
  },
  {
   "cell_type": "code",
   "execution_count": null,
   "metadata": {},
   "outputs": [],
   "source": []
  },
  {
   "cell_type": "code",
   "execution_count": null,
   "metadata": {},
   "outputs": [],
   "source": []
  },
  {
   "cell_type": "code",
   "execution_count": null,
   "metadata": {},
   "outputs": [],
   "source": []
  }
 ],
 "metadata": {
  "kernelspec": {
   "display_name": "Python 3",
   "language": "python",
   "name": "python3"
  },
  "language_info": {
   "codemirror_mode": {
    "name": "ipython",
    "version": 3
   },
   "file_extension": ".py",
   "mimetype": "text/x-python",
   "name": "python",
   "nbconvert_exporter": "python",
   "pygments_lexer": "ipython3",
   "version": "3.7.4"
  }
 },
 "nbformat": 4,
 "nbformat_minor": 2
}
